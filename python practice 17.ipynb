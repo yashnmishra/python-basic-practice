{
 "cells": [
  {
   "cell_type": "markdown",
   "metadata": {},
   "source": [
    "# Stack and Queue"
   ]
  },
  {
   "cell_type": "markdown",
   "metadata": {},
   "source": [
    "# stack"
   ]
  },
  {
   "cell_type": "code",
   "execution_count": 10,
   "metadata": {},
   "outputs": [],
   "source": [
    "class stack:\n",
    "    def __init__(self):\n",
    "        self.__array=[]\n",
    "    def pop(self):\n",
    "        if self.Isempty():\n",
    "            print(\"Empty Stack\")\n",
    "            return\n",
    "        return self.__array.pop()\n",
    "    def push(self,ele):\n",
    "        self.__array.append(ele)\n",
    "    def top(self):\n",
    "        if self.Isempty():\n",
    "            print(\"Empty stack\")\n",
    "            return\n",
    "        return self.__array[-1]\n",
    "    def size(self):\n",
    "        return len(self.__array)\n",
    "    def Isempty(self):\n",
    "        return self.size()==0"
   ]
  },
  {
   "cell_type": "code",
   "execution_count": 11,
   "metadata": {},
   "outputs": [],
   "source": [
    "s1 = stack()"
   ]
  },
  {
   "cell_type": "code",
   "execution_count": 12,
   "metadata": {},
   "outputs": [],
   "source": [
    "s1.push(10)\n",
    "s1.push(20)\n",
    "s1.push(30)"
   ]
  },
  {
   "cell_type": "code",
   "execution_count": 13,
   "metadata": {},
   "outputs": [
    {
     "name": "stdout",
     "output_type": "stream",
     "text": [
      "30\n"
     ]
    }
   ],
   "source": [
    "print(s1.pop())"
   ]
  },
  {
   "cell_type": "code",
   "execution_count": 14,
   "metadata": {},
   "outputs": [
    {
     "name": "stdout",
     "output_type": "stream",
     "text": [
      "20\n",
      "10\n",
      "Empty Stack\n",
      "None\n"
     ]
    }
   ],
   "source": [
    "print(s1.pop())\n",
    "print(s1.pop())\n",
    "print(s1.pop())\n"
   ]
  },
  {
   "cell_type": "code",
   "execution_count": 15,
   "metadata": {},
   "outputs": [],
   "source": [
    "def check(str1):\n",
    "    l = []\n",
    "    for ele in str1:            #Reading symbols one by one\n",
    "        if ele in '({[':       # Opening parenthesis of any type \n",
    "            l.append(ele)\n",
    "        elif ele==')':           # if stack is empty OR maching opening wala braket nahi hai\n",
    "            if (not l or l[-1]!='('):\n",
    "                return False\n",
    "            l.pop()\n",
    "        elif ele=='}':\n",
    "            if (not l or l[-1]!='{'):\n",
    "                return False\n",
    "            l.pop()\n",
    "        elif ele==']':\n",
    "            if (not l or l[-1]!='['):\n",
    "                return False\n",
    "            l.pop()\n",
    "    if (not l):\n",
    "        return True\n",
    "    else:\n",
    "        return False\n",
    "\n"
   ]
  },
  {
   "cell_type": "code",
   "execution_count": 16,
   "metadata": {},
   "outputs": [
    {
     "name": "stdout",
     "output_type": "stream",
     "text": [
      "True\n"
     ]
    }
   ],
   "source": [
    "s = input(\"Enter the string of Parenthesis :\")\n",
    "answer = check(s)\n",
    "print(answer)"
   ]
  },
  {
   "cell_type": "markdown",
   "metadata": {},
   "source": [
    "# Queue "
   ]
  },
  {
   "cell_type": "code",
   "execution_count": 17,
   "metadata": {},
   "outputs": [],
   "source": [
    "class Queue():\n",
    "    def __init__(self):\n",
    "        self.__array = []\n",
    "        self.__front = -1 # later on samaj ayega galat hai\n",
    "        self.__count = 0  # \n",
    "\n",
    "    def enqueue(self,ele):\n",
    "        self.__array.append(ele)\n",
    "        self.__count += 1\n",
    "\n",
    "    def size(self):\n",
    "        return self.__count\n",
    "    \n",
    "    def Isempty(self):\n",
    "        self.size()==0\n",
    "\n",
    "    def dequeue(self):\n",
    "        if self.__count==0:\n",
    "             return -1 \n",
    "        ele=self.__array[self.__front]\n",
    "        self.__front +=1\n",
    "        self.__count -=1\n",
    "        return ele\n",
    "    \n",
    "    def front(self):\n",
    "        if self.__count == 0:\n",
    "            return -1\n",
    "        ele = self.__array[self.__front]\n",
    "        return ele"
   ]
  },
  {
   "cell_type": "code",
   "execution_count": 22,
   "metadata": {},
   "outputs": [],
   "source": [
    "q = Queue() #q is object of queue class\n",
    "q.enqueue(10)\n",
    "q.enqueue(20)"
   ]
  },
  {
   "cell_type": "code",
   "execution_count": 23,
   "metadata": {},
   "outputs": [
    {
     "data": {
      "text/plain": [
       "20"
      ]
     },
     "execution_count": 23,
     "metadata": {},
     "output_type": "execute_result"
    }
   ],
   "source": [
    "q.front()"
   ]
  },
  {
   "cell_type": "code",
   "execution_count": 24,
   "metadata": {},
   "outputs": [
    {
     "data": {
      "text/plain": [
       "20"
      ]
     },
     "execution_count": 24,
     "metadata": {},
     "output_type": "execute_result"
    }
   ],
   "source": [
    "q.dequeue()"
   ]
  },
  {
   "cell_type": "code",
   "execution_count": 25,
   "metadata": {},
   "outputs": [
    {
     "data": {
      "text/plain": [
       "10"
      ]
     },
     "execution_count": 25,
     "metadata": {},
     "output_type": "execute_result"
    }
   ],
   "source": [
    "q.front()"
   ]
  },
  {
   "cell_type": "code",
   "execution_count": null,
   "metadata": {},
   "outputs": [],
   "source": []
  }
 ],
 "metadata": {
  "kernelspec": {
   "display_name": "ML-env",
   "language": "python",
   "name": "python3"
  },
  "language_info": {
   "codemirror_mode": {
    "name": "ipython",
    "version": 3
   },
   "file_extension": ".py",
   "mimetype": "text/x-python",
   "name": "python",
   "nbconvert_exporter": "python",
   "pygments_lexer": "ipython3",
   "version": "3.11.5"
  }
 },
 "nbformat": 4,
 "nbformat_minor": 2
}
