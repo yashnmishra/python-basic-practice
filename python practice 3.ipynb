{
 "cells": [
  {
   "cell_type": "code",
   "execution_count": 1,
   "metadata": {},
   "outputs": [
    {
     "name": "stdout",
     "output_type": "stream",
     "text": [
      "The factorial is 479001600\n"
     ]
    }
   ],
   "source": [
    "n = int(input(\"Enter a number : \"))\n",
    "prod=1\n",
    "for i in range(1,n+1):\n",
    "    prod = prod * i\n",
    "print(\"The factorial is\",prod)"
   ]
  },
  {
   "cell_type": "code",
   "execution_count": 4,
   "metadata": {},
   "outputs": [
    {
     "name": "stdout",
     "output_type": "stream",
     "text": [
      "the sum of all the elements is :  171\n"
     ]
    }
   ],
   "source": [
    "#given a list of elements write a program to print a sum of all the elements\n",
    "l=[12,4,56,7,90,2]\n",
    "sum=0\n",
    "for x in l:\n",
    "    sum = sum + x\n",
    "print(\"the sum of all the elements is : \",sum)"
   ]
  },
  {
   "cell_type": "code",
   "execution_count": 8,
   "metadata": {},
   "outputs": [
    {
     "name": "stdout",
     "output_type": "stream",
     "text": [
      "['False', 'None', 'True', 'and', 'as', 'assert', 'async', 'await', 'break', 'class', 'continue', 'def', 'del', 'elif', 'else', 'except', 'finally', 'for', 'from', 'global', 'if', 'import', 'in', 'is', 'lambda', 'nonlocal', 'not', 'or', 'pass', 'raise', 'return', 'try', 'while', 'with', 'yield']\n"
     ]
    }
   ],
   "source": [
    "import keyword\n",
    "print(keyword.kwlist)"
   ]
  },
  {
   "cell_type": "code",
   "execution_count": 9,
   "metadata": {},
   "outputs": [
    {
     "name": "stdout",
     "output_type": "stream",
     "text": [
      "The number of digits are  6\n"
     ]
    }
   ],
   "source": [
    "#count the number of digits in a input\n",
    "n = int(input(\"Enter a number : \"))\n",
    "c = 0\n",
    "while n!=0:\n",
    "    n=n//10\n",
    "    c=c+1\n",
    "print(\"The number of digits are \",c)"
   ]
  },
  {
   "cell_type": "code",
   "execution_count": 13,
   "metadata": {},
   "outputs": [
    {
     "name": "stdout",
     "output_type": "stream",
     "text": [
      "1\n",
      "2\n",
      "4\n",
      "7\n",
      "14\n",
      "28\n"
     ]
    }
   ],
   "source": [
    "#print all the factor of n\n",
    "n = int(input(\"enter the number \")) \n",
    "for i in range(1,n+1):\n",
    "    if n%i==0:\n",
    "        print(i)"
   ]
  },
  {
   "cell_type": "code",
   "execution_count": 11,
   "metadata": {},
   "outputs": [
    {
     "name": "stdout",
     "output_type": "stream",
     "text": [
      "the sum of factors of  28 is 56\n"
     ]
    }
   ],
   "source": [
    "#to print the sum of all factors of n \n",
    "n = int(input(\"Enter a number : \"))\n",
    "sum = 0 \n",
    "for i in range(1,n+1):\n",
    "    if n%i==0:\n",
    "        sum = sum + i\n",
    "print(\"the sum of factors of \",n,\"is\",sum)"
   ]
  },
  {
   "cell_type": "code",
   "execution_count": 14,
   "metadata": {},
   "outputs": [
    {
     "name": "stdout",
     "output_type": "stream",
     "text": [
      "the list is : [1, 2, 3, 6]\n"
     ]
    }
   ],
   "source": [
    "#Enter the number and append numbers start to finish 1 to n (factors)\n",
    "n=int(input(\"Enter the Number : \"))\n",
    "l=[]\n",
    "for i in range(1,n+1):\n",
    "    if n%i==0:\n",
    "        l.append(i)\n",
    "print(\"the list is :\",l )"
   ]
  },
  {
   "cell_type": "code",
   "execution_count": 15,
   "metadata": {},
   "outputs": [
    {
     "name": "stdout",
     "output_type": "stream",
     "text": [
      "the number 6 is a perfect number\n"
     ]
    }
   ],
   "source": [
    "# perfect number or not ,6 = 1+2+3 sum of proper divisor ie divisors other than itself and sum is original number\n",
    "#6 is an example of this \n",
    "n = int(input(\"Enter a number : \"))\n",
    "sum = 0\n",
    "for i in range(1,n): #exculde the number itself\n",
    "    if n%i == 0 :\n",
    "        sum = sum + i\n",
    "if sum == n: \n",
    "    print(\"the number\",n,\"is a perfect number\")\n",
    "else:\n",
    "    print(\"the number\",n,\"is not a perfect number\")"
   ]
  },
  {
   "cell_type": "code",
   "execution_count": 16,
   "metadata": {},
   "outputs": [
    {
     "name": "stdout",
     "output_type": "stream",
     "text": [
      "the sum of digits is :  9\n"
     ]
    }
   ],
   "source": [
    "#to find the sum of all digits of a number n (n>0)\n",
    "n=int(input(\"Enter the number : \"))\n",
    "sum  = 0\n",
    "while n!=0:\n",
    "    last = n%10\n",
    "    sum = sum+last\n",
    "    n = n//10\n",
    "print(\"the sum of digits is : \",sum)"
   ]
  },
  {
   "cell_type": "code",
   "execution_count": 17,
   "metadata": {},
   "outputs": [
    {
     "name": "stdout",
     "output_type": "stream",
     "text": [
      "last digit of the input :  1\n",
      "the updated number :  23\n"
     ]
    }
   ],
   "source": [
    "n = 231\n",
    "sum = 0\n",
    "last = n%10\n",
    "print(\"last digit of the input : \",last)\n",
    "n = n//10\n",
    "print(\"the updated number : \",n)"
   ]
  },
  {
   "cell_type": "code",
   "execution_count": null,
   "metadata": {},
   "outputs": [],
   "source": []
  }
 ],
 "metadata": {
  "kernelspec": {
   "display_name": "Python 3",
   "language": "python",
   "name": "python3"
  },
  "language_info": {
   "codemirror_mode": {
    "name": "ipython",
    "version": 3
   },
   "file_extension": ".py",
   "mimetype": "text/x-python",
   "name": "python",
   "nbconvert_exporter": "python",
   "pygments_lexer": "ipython3",
   "version": "3.12.3"
  }
 },
 "nbformat": 4,
 "nbformat_minor": 2
}
