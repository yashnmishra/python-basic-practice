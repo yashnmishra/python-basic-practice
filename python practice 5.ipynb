{
 "cells": [
  {
   "cell_type": "code",
   "execution_count": 2,
   "metadata": {},
   "outputs": [
    {
     "name": "stdout",
     "output_type": "stream",
     "text": [
      "Twinkel twinkel \n",
      "little star\n",
      "how i wonder what you are!\n"
     ]
    }
   ],
   "source": [
    "a = '''Twinkel twinkel \n",
    "little star\n",
    "how i wonder what you are!'''\n",
    "print(a)"
   ]
  },
  {
   "cell_type": "code",
   "execution_count": 5,
   "metadata": {},
   "outputs": [
    {
     "name": "stdout",
     "output_type": "stream",
     "text": [
      "0 y\n",
      "1 a\n",
      "2 s\n",
      "3 h\n",
      "4 _\n",
      "5 m\n",
      "6 i\n",
      "7 s\n",
      "8 h\n",
      "9 r\n",
      "10 a\n"
     ]
    }
   ],
   "source": [
    "y = \"yash_mishra\"\n",
    "for i in range(11):\n",
    "    print(i,y[i])"
   ]
  },
  {
   "cell_type": "code",
   "execution_count": 6,
   "metadata": {},
   "outputs": [
    {
     "name": "stdout",
     "output_type": "stream",
     "text": [
      "0 y\n",
      "1 a\n",
      "2 s\n",
      "3 h\n",
      "4 _\n",
      "5 m\n",
      "6 i\n",
      "7 s\n",
      "8 h\n",
      "9 r\n",
      "10 a\n"
     ]
    }
   ],
   "source": [
    "y=\"yash_mishra\"\n",
    "for i in range (len(y)):\n",
    "    print(i,y[i])"
   ]
  },
  {
   "cell_type": "code",
   "execution_count": 20,
   "metadata": {},
   "outputs": [
    {
     "name": "stdout",
     "output_type": "stream",
     "text": [
      "0 -11 y y\n",
      "1 -10 a a\n",
      "2 -9 s s\n",
      "3 -8 h h\n",
      "4 -7 _ _\n",
      "5 -6 m m\n",
      "6 -5 i i\n",
      "7 -4 s s\n",
      "8 -3 h h\n",
      "9 -2 r r\n",
      "10 -1 a a\n"
     ]
    }
   ],
   "source": [
    "y=\"yash_mishra\"\n",
    "for i in range (len(y)):\n",
    "    print(i,i-len(y),y[i],y[i-len(y)])"
   ]
  },
  {
   "cell_type": "code",
   "execution_count": 24,
   "metadata": {},
   "outputs": [
    {
     "name": "stdout",
     "output_type": "stream",
     "text": [
      "Yash_mishra_\n",
      "ash_mishra_\n",
      "Yash_mi\n"
     ]
    }
   ],
   "source": [
    "y=\"Yash_mishra_\"\n",
    "print(y)\n",
    "print(y[1:])\n",
    "print(y[:7])\n",
    "print()"
   ]
  },
  {
   "cell_type": "code",
   "execution_count": 26,
   "metadata": {},
   "outputs": [
    {
     "name": "stdout",
     "output_type": "stream",
     "text": [
      "ahmsr\n",
      "_arhsim_hsaY\n"
     ]
    }
   ],
   "source": [
    "print(y[1:11:2])\n",
    "print(y[::-1],sep='/n')"
   ]
  },
  {
   "cell_type": "code",
   "execution_count": 27,
   "metadata": {},
   "outputs": [
    {
     "name": "stdout",
     "output_type": "stream",
     "text": [
      "shr\n"
     ]
    }
   ],
   "source": [
    "print(y[-5:-2:1])"
   ]
  },
  {
   "cell_type": "code",
   "execution_count": 28,
   "metadata": {},
   "outputs": [
    {
     "data": {
      "text/plain": [
       "12"
      ]
     },
     "execution_count": 28,
     "metadata": {},
     "output_type": "execute_result"
    }
   ],
   "source": [
    "len(y)"
   ]
  },
  {
   "cell_type": "code",
   "execution_count": 32,
   "metadata": {},
   "outputs": [
    {
     "name": "stdout",
     "output_type": "stream",
     "text": [
      "wla\n"
     ]
    }
   ],
   "source": [
    "s='halwa'\n",
    "print(s[-2:-5:-1])\n"
   ]
  },
  {
   "cell_type": "code",
   "execution_count": 37,
   "metadata": {},
   "outputs": [
    {
     "name": "stdout",
     "output_type": "stream",
     "text": [
      "wa\n"
     ]
    }
   ],
   "source": [
    "s=\"Halwa\"\n",
    "print(s[-2:-5:-2])"
   ]
  },
  {
   "cell_type": "code",
   "execution_count": 38,
   "metadata": {},
   "outputs": [
    {
     "data": {
      "text/plain": [
       "'awla'"
      ]
     },
     "execution_count": 38,
     "metadata": {},
     "output_type": "execute_result"
    }
   ],
   "source": [
    "s[4:0:-1]"
   ]
  },
  {
   "cell_type": "code",
   "execution_count": 39,
   "metadata": {},
   "outputs": [
    {
     "data": {
      "text/plain": [
       "'wla'"
      ]
     },
     "execution_count": 39,
     "metadata": {},
     "output_type": "execute_result"
    }
   ],
   "source": [
    "s[-2:-5:-1]"
   ]
  },
  {
   "cell_type": "code",
   "execution_count": 41,
   "metadata": {},
   "outputs": [],
   "source": [
    "s='Hello my name is yash'"
   ]
  },
  {
   "cell_type": "code",
   "execution_count": 43,
   "metadata": {},
   "outputs": [
    {
     "name": "stdout",
     "output_type": "stream",
     "text": [
      "True\n"
     ]
    }
   ],
   "source": [
    "print('yash'in s)"
   ]
  },
  {
   "cell_type": "code",
   "execution_count": 44,
   "metadata": {},
   "outputs": [
    {
     "name": "stdout",
     "output_type": "stream",
     "text": [
      "False\n"
     ]
    }
   ],
   "source": [
    "print('sudhanshu'in s)"
   ]
  },
  {
   "cell_type": "code",
   "execution_count": 46,
   "metadata": {},
   "outputs": [
    {
     "name": "stdout",
     "output_type": "stream",
     "text": [
      "yash \n",
      " is it inside \n",
      " hello i am yash mishra\n",
      "yes\n"
     ]
    }
   ],
   "source": [
    "#write a program to find wheather a substring is present in original string \n",
    "s = input()\n",
    "t = input()\n",
    "\n",
    "print(t,\"\\n is it inside \\n\",s)\n",
    "if t in s:\n",
    "    print(\"yes\")\n",
    "else:\n",
    "    print(\"no\")"
   ]
  },
  {
   "cell_type": "code",
   "execution_count": 47,
   "metadata": {},
   "outputs": [
    {
     "name": "stdout",
     "output_type": "stream",
     "text": [
      "NamaN is a palindrome\n"
     ]
    }
   ],
   "source": [
    "#wheather a given string is palindrome string or not \n",
    "s = input(\"enter a string to check wheather sting or not  : \")\n",
    "\n",
    "if s==s[::-1]:\n",
    "    print(s,\"is a palindrome\")\n",
    "else:\n",
    "    print(s,\" Not a plaindrome sting \")"
   ]
  },
  {
   "cell_type": "code",
   "execution_count": 4,
   "metadata": {},
   "outputs": [
    {
     "name": "stdout",
     "output_type": "stream",
     "text": [
      "arhsiM_hsaY\n"
     ]
    }
   ],
   "source": [
    "#reverse while slicing/ without any function \n",
    "s = \"Yash_Mishra\"\n",
    "a=''\n",
    "for i in range (len(s)-1,-1,-1):\n",
    "    a=a+s[i]\n",
    "print(a)"
   ]
  }
 ],
 "metadata": {
  "kernelspec": {
   "display_name": "Python 3",
   "language": "python",
   "name": "python3"
  },
  "language_info": {
   "codemirror_mode": {
    "name": "ipython",
    "version": 3
   },
   "file_extension": ".py",
   "mimetype": "text/x-python",
   "name": "python",
   "nbconvert_exporter": "python",
   "pygments_lexer": "ipython3",
   "version": "3.12.3"
  }
 },
 "nbformat": 4,
 "nbformat_minor": 2
}
