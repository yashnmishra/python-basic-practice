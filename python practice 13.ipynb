{
 "cells": [
  {
   "cell_type": "markdown",
   "metadata": {},
   "source": [
    "# OOPs #"
   ]
  },
  {
   "cell_type": "code",
   "execution_count": 21,
   "metadata": {},
   "outputs": [],
   "source": [
    "class Teacher:\n",
    "    def __init__ (self):\n",
    "        self.Name=\"xyz\"\n",
    "        self.Age = 24\n",
    "\t\t\n",
    "    def display(self):\n",
    "        print(\"the name is\",self.Name)\n",
    "        print(\"Age is\",self.Age)"
   ]
  },
  {
   "cell_type": "code",
   "execution_count": 25,
   "metadata": {},
   "outputs": [
    {
     "name": "stdout",
     "output_type": "stream",
     "text": [
      "the name is xyz\n",
      "Age is 24\n",
      "4392582992\n"
     ]
    }
   ],
   "source": [
    "t1 = Teacher()\n",
    "t1.display()\n",
    "print(id(t1))"
   ]
  },
  {
   "cell_type": "code",
   "execution_count": 26,
   "metadata": {},
   "outputs": [
    {
     "name": "stdout",
     "output_type": "stream",
     "text": [
      "the name is xyz\n",
      "Age is 24\n",
      "4392571472\n"
     ]
    }
   ],
   "source": [
    "t2 = Teacher()\n",
    "t2.display()\n",
    "print(id(t2))"
   ]
  },
  {
   "cell_type": "code",
   "execution_count": 27,
   "metadata": {},
   "outputs": [
    {
     "name": "stdout",
     "output_type": "stream",
     "text": [
      "4394363376\n",
      "Constructor executed\n",
      "4394363376\n",
      "4394368224\n",
      "Constructor executed\n",
      "4394368224\n"
     ]
    }
   ],
   "source": [
    "class Student:\n",
    "    friend = \"viraj\"\n",
    "    def __init__(self):\n",
    "        self.name = 'Yash'#value are hardcoded here \n",
    "        self.age  = 23\n",
    "        print(id(self))\n",
    "        print(\"Constructor executed\")\n",
    "    def display(self):\n",
    "        print(self.name)\n",
    "        print(self.age)\n",
    "\n",
    "T1 = Student()# Self == T1 , Self == T2\n",
    "print(id(T1))\n",
    "\n",
    "T2 = Student()\n",
    "print(id(T2))"
   ]
  },
  {
   "cell_type": "code",
   "execution_count": 28,
   "metadata": {},
   "outputs": [
    {
     "name": "stdout",
     "output_type": "stream",
     "text": [
      "viraj\n"
     ]
    }
   ],
   "source": [
    "print(Student.friend)"
   ]
  },
  {
   "cell_type": "code",
   "execution_count": 5,
   "metadata": {},
   "outputs": [
    {
     "name": "stdout",
     "output_type": "stream",
     "text": [
      "4365492848\n",
      "Constructor executed\n",
      "4364014976\n",
      "Constructor executed\n",
      "4363606384\n",
      "Constructor executed\n"
     ]
    }
   ],
   "source": [
    "T1 = Student()\n",
    "T2 = Student()\n",
    "T3 = Student()"
   ]
  },
  {
   "cell_type": "code",
   "execution_count": 7,
   "metadata": {},
   "outputs": [
    {
     "name": "stdout",
     "output_type": "stream",
     "text": [
      "Yash\n",
      "23\n",
      "Yash\n",
      "23\n",
      "Yash\n",
      "23\n"
     ]
    }
   ],
   "source": [
    "T1.display()\n",
    "T2.display()\n",
    "T3.display()"
   ]
  },
  {
   "cell_type": "code",
   "execution_count": 2,
   "metadata": {},
   "outputs": [
    {
     "name": "stdout",
     "output_type": "stream",
     "text": [
      "4809131216\n"
     ]
    }
   ],
   "source": [
    "class Teacher:\n",
    "    @classmethod\n",
    "    def fun(cls):\n",
    "        print(id(cls))\n",
    "print(id(Teacher))"
   ]
  },
  {
   "cell_type": "code",
   "execution_count": 3,
   "metadata": {},
   "outputs": [
    {
     "name": "stdout",
     "output_type": "stream",
     "text": [
      "4809131216\n"
     ]
    }
   ],
   "source": [
    "Teacher.fun()"
   ]
  },
  {
   "cell_type": "code",
   "execution_count": 5,
   "metadata": {},
   "outputs": [],
   "source": [
    "class demo:\n",
    "    def __init__ (self):\n",
    "        self.x = 2\n",
    "        self.y = 3\n",
    "    def fun(self):\n",
    "        self.z = 100"
   ]
  },
  {
   "cell_type": "code",
   "execution_count": 7,
   "metadata": {},
   "outputs": [
    {
     "data": {
      "text/plain": [
       "{'x': 2, 'y': 3}"
      ]
     },
     "execution_count": 7,
     "metadata": {},
     "output_type": "execute_result"
    }
   ],
   "source": [
    "d = demo() #demo ke liye constructor call kiya hai\n",
    "d.__dict__"
   ]
  },
  {
   "cell_type": "code",
   "execution_count": 8,
   "metadata": {},
   "outputs": [
    {
     "data": {
      "text/plain": [
       "{'x': 2, 'y': 3, 'z': 100}"
      ]
     },
     "execution_count": 8,
     "metadata": {},
     "output_type": "execute_result"
    }
   ],
   "source": [
    "d1 = demo()\n",
    "d1.fun()\n",
    "d1.__dict__"
   ]
  },
  {
   "cell_type": "code",
   "execution_count": 10,
   "metadata": {},
   "outputs": [],
   "source": [
    "class emp:\n",
    "    def __init__(self):\n",
    "        self.__name = \"yash\"  #private variable\n",
    "        self.age = 41"
   ]
  },
  {
   "cell_type": "code",
   "execution_count": 12,
   "metadata": {},
   "outputs": [
    {
     "ename": "AttributeError",
     "evalue": "'emp' object has no attribute '__name'",
     "output_type": "error",
     "traceback": [
      "\u001b[0;31m---------------------------------------------------------------------------\u001b[0m",
      "\u001b[0;31mAttributeError\u001b[0m                            Traceback (most recent call last)",
      "Cell \u001b[0;32mIn[12], line 2\u001b[0m\n\u001b[1;32m      1\u001b[0m e1 \u001b[38;5;241m=\u001b[39m emp()\n\u001b[0;32m----> 2\u001b[0m \u001b[38;5;28mprint\u001b[39m(\u001b[43me1\u001b[49m\u001b[38;5;241;43m.\u001b[39;49m\u001b[43m__name\u001b[49m) \u001b[38;5;66;03m#udd ke laat padegi because private variable cannot be accessed outside the class\u001b[39;00m\n",
      "\u001b[0;31mAttributeError\u001b[0m: 'emp' object has no attribute '__name'"
     ]
    }
   ],
   "source": [
    "e1 = emp()\n",
    "print(e1.__name) #udd ke laat padegi because private variable cannot be accessed outside the class"
   ]
  },
  {
   "cell_type": "code",
   "execution_count": 13,
   "metadata": {},
   "outputs": [
    {
     "name": "stdout",
     "output_type": "stream",
     "text": [
      "41\n"
     ]
    }
   ],
   "source": [
    "e1 =emp()\n",
    "print(e1.age)"
   ]
  },
  {
   "cell_type": "code",
   "execution_count": 15,
   "metadata": {},
   "outputs": [],
   "source": [
    "class B:\n",
    "    def __init__(self) -> None:\n",
    "        self.__minbalance = 500 #prive -- local\n",
    "    def painting(self):\n",
    "        print(self.__minbalance)"
   ]
  },
  {
   "cell_type": "code",
   "execution_count": 17,
   "metadata": {},
   "outputs": [],
   "source": [
    "a= B()"
   ]
  },
  {
   "cell_type": "code",
   "execution_count": 18,
   "metadata": {},
   "outputs": [
    {
     "name": "stdout",
     "output_type": "stream",
     "text": [
      "500\n"
     ]
    }
   ],
   "source": [
    "a.painting()"
   ]
  },
  {
   "cell_type": "code",
   "execution_count": 19,
   "metadata": {},
   "outputs": [],
   "source": [
    "class Employee:\n",
    "    def __init__(self):\n",
    "        self.Name = \"abc\"\n",
    "        self.Age = 23\n",
    "    def marrage(self):\n",
    "        self.wife = \"xyz\"\n",
    "\n",
    "E1 = Employee()\n",
    "E1.marrage()"
   ]
  },
  {
   "cell_type": "code",
   "execution_count": 20,
   "metadata": {},
   "outputs": [],
   "source": [
    "E1.marrage()"
   ]
  },
  {
   "cell_type": "code",
   "execution_count": 40,
   "metadata": {},
   "outputs": [],
   "source": [
    "class student:\n",
    "    def __init__(self,name,marks):\n",
    "        self.name = name\n",
    "        self.marks = marks\n",
    "    def showmarks(self):\n",
    "        print(\"my name is :\",self.name,\" and my marks is :\" , self.marks)"
   ]
  },
  {
   "cell_type": "code",
   "execution_count": 45,
   "metadata": {},
   "outputs": [],
   "source": [
    "yash = student(\"yash\",98)"
   ]
  },
  {
   "cell_type": "code",
   "execution_count": 46,
   "metadata": {},
   "outputs": [
    {
     "name": "stdout",
     "output_type": "stream",
     "text": [
      "my name is : yash my marks is : 98\n"
     ]
    }
   ],
   "source": [
    "yash.showmarks()"
   ]
  },
  {
   "cell_type": "code",
   "execution_count": 47,
   "metadata": {},
   "outputs": [],
   "source": [
    "viraj = student(\"viraj bhai\",99)"
   ]
  },
  {
   "cell_type": "code",
   "execution_count": 48,
   "metadata": {},
   "outputs": [
    {
     "name": "stdout",
     "output_type": "stream",
     "text": [
      "my name is : viraj bhai my marks is : 99\n"
     ]
    }
   ],
   "source": [
    "viraj.showmarks()"
   ]
  },
  {
   "cell_type": "code",
   "execution_count": 120,
   "metadata": {},
   "outputs": [],
   "source": [
    "class fraction:\n",
    "    def __init__(self,num=0,den=1):\n",
    "        self.num=num\n",
    "        self.den=den\n",
    "\n",
    "    def chapo(self):\n",
    "        print(self.num,\"\\\\\",self.den)\n",
    "\n",
    "    def jodo(self,dousraself):\n",
    "        self.num = (self.num * dousraself.den) + (self.den * dousraself.num)\n",
    "        self.den = self.den * dousraself.den"
   ]
  },
  {
   "cell_type": "code",
   "execution_count": 121,
   "metadata": {},
   "outputs": [],
   "source": [
    "f1 = fraction(4,2)"
   ]
  },
  {
   "cell_type": "code",
   "execution_count": 122,
   "metadata": {},
   "outputs": [],
   "source": [
    "f2 = fraction(1,2)"
   ]
  },
  {
   "cell_type": "code",
   "execution_count": 123,
   "metadata": {},
   "outputs": [],
   "source": [
    "f1.jodo(f2)"
   ]
  },
  {
   "cell_type": "code",
   "execution_count": 124,
   "metadata": {},
   "outputs": [
    {
     "name": "stdout",
     "output_type": "stream",
     "text": [
      "10 \\ 4\n"
     ]
    }
   ],
   "source": [
    "f1.chapo()"
   ]
  },
  {
   "cell_type": "code",
   "execution_count": 125,
   "metadata": {},
   "outputs": [
    {
     "name": "stdout",
     "output_type": "stream",
     "text": [
      "0 \\ 1\n"
     ]
    }
   ],
   "source": [
    "f3= fraction()\n",
    "f3.chapo()"
   ]
  },
  {
   "cell_type": "code",
   "execution_count": 127,
   "metadata": {},
   "outputs": [
    {
     "name": "stdout",
     "output_type": "stream",
     "text": [
      "4 \\ 2\n"
     ]
    }
   ],
   "source": [
    "f4 = fraction(4,2)\n",
    "f4.chapo()"
   ]
  },
  {
   "cell_type": "code",
   "execution_count": null,
   "metadata": {},
   "outputs": [],
   "source": []
  }
 ],
 "metadata": {
  "kernelspec": {
   "display_name": "Python 3",
   "language": "python",
   "name": "python3"
  },
  "language_info": {
   "codemirror_mode": {
    "name": "ipython",
    "version": 3
   },
   "file_extension": ".py",
   "mimetype": "text/x-python",
   "name": "python",
   "nbconvert_exporter": "python",
   "pygments_lexer": "ipython3",
   "version": "3.12.3"
  }
 },
 "nbformat": 4,
 "nbformat_minor": 2
}
