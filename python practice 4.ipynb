{
 "cells": [
  {
   "cell_type": "code",
   "execution_count": 2,
   "metadata": {},
   "outputs": [
    {
     "name": "stdout",
     "output_type": "stream",
     "text": [
      "Input number is perfect number \n"
     ]
    }
   ],
   "source": [
    "#Print all the perfect number or is it a perfect number or not \n",
    "n = int(input(\"Enter the value to check\"))\n",
    "s = 0\n",
    "for i in range(1,n):\n",
    "    if n%i == 0:\n",
    "        s=s+i\n",
    "if s == n:\n",
    "    print(\"Input number is perfect number \")\n",
    "else:\n",
    "    print(\"entered number is not perfect\")"
   ]
  },
  {
   "cell_type": "code",
   "execution_count": 7,
   "metadata": {},
   "outputs": [
    {
     "name": "stdout",
     "output_type": "stream",
     "text": [
      "6\n",
      "28\n",
      "496\n"
     ]
    }
   ],
   "source": [
    "for n in range(1,1000):\n",
    "    s=0\n",
    "    for i in range(1,n):\n",
    "        if n%i == 0:\n",
    "            s=s+i\n",
    "    if s == n:\n",
    "        print(s)"
   ]
  },
  {
   "cell_type": "code",
   "execution_count": 1,
   "metadata": {},
   "outputs": [
    {
     "name": "stdout",
     "output_type": "stream",
     "text": [
      "1\n",
      "2\n",
      "4\n",
      "5\n",
      "7\n",
      "8\n",
      "10\n"
     ]
    }
   ],
   "source": [
    "#continue state \n",
    "for i in range(1,11):\n",
    "    if i%3==0:\n",
    "         continue\n",
    "    print(i)"
   ]
  },
  {
   "cell_type": "code",
   "execution_count": 1,
   "metadata": {},
   "outputs": [
    {
     "name": "stdout",
     "output_type": "stream",
     "text": [
      "1\n",
      "2\n"
     ]
    }
   ],
   "source": [
    "for i in range(1,11):\n",
    "    if i%3==0:\n",
    "        break\n",
    "    print(i)"
   ]
  },
  {
   "cell_type": "code",
   "execution_count": 2,
   "metadata": {},
   "outputs": [
    {
     "name": "stdout",
     "output_type": "stream",
     "text": [
      "1 1\n",
      "1 2\n",
      "1 3\n",
      "1 4\n",
      "2 1\n",
      "2 2\n",
      "2 3\n",
      "2 4\n",
      "3 1\n",
      "3 2\n",
      "3 3\n",
      "3 4\n"
     ]
    }
   ],
   "source": [
    "for i in range(1,4):\n",
    "    for j in range(1,5):\n",
    "        print(i,j)"
   ]
  },
  {
   "cell_type": "code",
   "execution_count": 4,
   "metadata": {},
   "outputs": [
    {
     "name": "stdout",
     "output_type": "stream",
     "text": [
      "11121314\n",
      "21222324\n",
      "31323334\n"
     ]
    }
   ],
   "source": [
    "for i in range(1,4):\n",
    "    for j  in range(1,5):\n",
    "        print(i,j,sep='',end='')\n",
    "    print()"
   ]
  },
  {
   "cell_type": "code",
   "execution_count": 5,
   "metadata": {},
   "outputs": [
    {
     "name": "stdout",
     "output_type": "stream",
     "text": [
      "1 1\n",
      "1 3\n",
      "2 2\n",
      "2 3\n",
      "3 1\n",
      "3 2\n",
      "4 1\n",
      "4 3\n"
     ]
    }
   ],
   "source": [
    "for i in range(1,5):\n",
    "    for j in range(1,4):\n",
    "        if (i+j)%3==0:\n",
    "            continue\n",
    "        print(i,j)\n"
   ]
  },
  {
   "cell_type": "code",
   "execution_count": 7,
   "metadata": {},
   "outputs": [
    {
     "name": "stdout",
     "output_type": "stream",
     "text": [
      "1\n",
      "2\n",
      "3\n",
      "statement statement chalo statement.\n"
     ]
    }
   ],
   "source": [
    "for i in range(1,4):\n",
    "    if i%5==0:\n",
    "        break\n",
    "    print(i)\n",
    "else:\n",
    "    print(\"statement statement chalo statement.\")"
   ]
  },
  {
   "cell_type": "code",
   "execution_count": 9,
   "metadata": {},
   "outputs": [
    {
     "name": "stdout",
     "output_type": "stream",
     "text": [
      "hello\n"
     ]
    }
   ],
   "source": [
    "for i in range (1,4):\n",
    "    if i%5==0:\n",
    "        print(\"bola ke nahi\")\n",
    "else:\n",
    "    print(\"hello\")"
   ]
  },
  {
   "cell_type": "code",
   "execution_count": 10,
   "metadata": {},
   "outputs": [
    {
     "name": "stdout",
     "output_type": "stream",
     "text": [
      "1\n",
      "2\n",
      "3\n",
      "4\n"
     ]
    }
   ],
   "source": [
    "for i in range(1,10):\n",
    "    if i%5==0:\n",
    "        break\n",
    "    print(i)\n",
    "else:\n",
    "    print(\"statement statement chalo statement.\")"
   ]
  },
  {
   "cell_type": "code",
   "execution_count": 15,
   "metadata": {},
   "outputs": [
    {
     "name": "stdout",
     "output_type": "stream",
     "text": [
      "7 it is a prime number\n"
     ]
    }
   ],
   "source": [
    "#prime number or not \n",
    "n= int(input(\"enter the number to check wheather prime or not ?\"))\n",
    "for i in range (2,n):\n",
    "    if n%i==0:\n",
    "        print(n,\"is not a prime number\")\n",
    "    else:\n",
    "        print(n,\"it is a prime number\")\n",
    "    break"
   ]
  }
 ],
 "metadata": {
  "kernelspec": {
   "display_name": "Python 3",
   "language": "python",
   "name": "python3"
  },
  "language_info": {
   "codemirror_mode": {
    "name": "ipython",
    "version": 3
   },
   "file_extension": ".py",
   "mimetype": "text/x-python",
   "name": "python",
   "nbconvert_exporter": "python",
   "pygments_lexer": "ipython3",
   "version": "3.12.3"
  }
 },
 "nbformat": 4,
 "nbformat_minor": 2
}
