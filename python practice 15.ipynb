{
 "cells": [
  {
   "cell_type": "code",
   "execution_count": 16,
   "metadata": {},
   "outputs": [],
   "source": [
    "#l = [int(ele) for ele in input().split()]\n",
    "#head = None\n",
    "#for i in range(len(l)):\n",
    "#    new_node = Node(l[i])\n",
    "#    if head == None:\n",
    "#        head = new_node\n",
    "#    else:\n",
    "#        current = head\n",
    "#        while current.next != None:\n",
    "#            current =  current.next\n",
    "#       current.next = new_node"
   ]
  },
  {
   "cell_type": "code",
   "execution_count": 17,
   "metadata": {},
   "outputs": [],
   "source": [
    "#new_node.data"
   ]
  },
  {
   "cell_type": "code",
   "execution_count": 18,
   "metadata": {},
   "outputs": [],
   "source": [
    "#current.data"
   ]
  },
  {
   "cell_type": "code",
   "execution_count": 19,
   "metadata": {},
   "outputs": [],
   "source": [
    "#head.data"
   ]
  },
  {
   "cell_type": "code",
   "execution_count": 20,
   "metadata": {},
   "outputs": [],
   "source": [
    "#creating nodes for linked list\n",
    "class Node:\n",
    "    def __init__(self,data):\n",
    "        self.data = data\n",
    "        self.next = None\n",
    "    "
   ]
  },
  {
   "cell_type": "code",
   "execution_count": 21,
   "metadata": {},
   "outputs": [],
   "source": [
    "#method to take input data and also return head\n",
    "def takeinput():\n",
    "        l = [int(ele) for ele in input().split()]\n",
    "        head = None\n",
    "        for i in range(len(l)):\n",
    "            new_node = Node(l[i])\n",
    "            if head == None:\n",
    "                head = new_node\n",
    "            else:\n",
    "                current = head\n",
    "                while current.next != None:\n",
    "                    current =  current.next\n",
    "                current.next = new_node\n",
    "        return head"
   ]
  },
  {
   "cell_type": "code",
   "execution_count": 22,
   "metadata": {},
   "outputs": [],
   "source": [
    "# method to print the data of full linked list \n",
    "def printingLL(head):\n",
    "        while head != None:\n",
    "            print(head.data,\"--> \",end=' ')\n",
    "            head = head.next\n",
    "        print(\"None\")"
   ]
  },
  {
   "cell_type": "code",
   "execution_count": 23,
   "metadata": {},
   "outputs": [],
   "source": [
    "# Method to return the last node data form the linked list\n",
    "def last_node_Data(head):\n",
    "    if head == None:\n",
    "        return head\n",
    "    while head.next != None:\n",
    "        head = head.next\n",
    "    return head.data"
   ]
  },
  {
   "cell_type": "code",
   "execution_count": 24,
   "metadata": {},
   "outputs": [],
   "source": [
    "ll = takeinput()"
   ]
  },
  {
   "cell_type": "code",
   "execution_count": 25,
   "metadata": {},
   "outputs": [
    {
     "name": "stdout",
     "output_type": "stream",
     "text": [
      "1 -->  2 -->  3 -->  4 -->  5 -->  6 -->  7 -->  None\n"
     ]
    }
   ],
   "source": [
    "printingLL(ll)"
   ]
  },
  {
   "cell_type": "code",
   "execution_count": 26,
   "metadata": {},
   "outputs": [
    {
     "data": {
      "text/plain": [
       "<__main__.Node at 0x1070cfaa0>"
      ]
     },
     "execution_count": 26,
     "metadata": {},
     "output_type": "execute_result"
    }
   ],
   "source": [
    "ll"
   ]
  },
  {
   "cell_type": "code",
   "execution_count": 27,
   "metadata": {},
   "outputs": [
    {
     "data": {
      "text/plain": [
       "7"
      ]
     },
     "execution_count": 27,
     "metadata": {},
     "output_type": "execute_result"
    }
   ],
   "source": [
    "last_node_Data(ll)"
   ]
  },
  {
   "cell_type": "code",
   "execution_count": 28,
   "metadata": {},
   "outputs": [],
   "source": [
    "#print second last node data from the linked list :\n",
    "def second_last_data(head):\n",
    "    if head == None and head.next == None:\n",
    "         return None\n",
    "    while head.next.next != None:\n",
    "         head = head.next\n",
    "    return head.data"
   ]
  },
  {
   "cell_type": "code",
   "execution_count": 29,
   "metadata": {},
   "outputs": [
    {
     "data": {
      "text/plain": [
       "6"
      ]
     },
     "execution_count": 29,
     "metadata": {},
     "output_type": "execute_result"
    }
   ],
   "source": [
    "second_last_data(ll)"
   ]
  },
  {
   "cell_type": "code",
   "execution_count": 30,
   "metadata": {},
   "outputs": [],
   "source": [
    "def length(head):\n",
    "    count = 0\n",
    "    while head != None:\n",
    "        count = count + 1\n",
    "        head = head.next\n",
    "    return count"
   ]
  },
  {
   "cell_type": "code",
   "execution_count": 31,
   "metadata": {},
   "outputs": [
    {
     "data": {
      "text/plain": [
       "7"
      ]
     },
     "execution_count": 31,
     "metadata": {},
     "output_type": "execute_result"
    }
   ],
   "source": [
    "length(ll)"
   ]
  },
  {
   "cell_type": "code",
   "execution_count": 32,
   "metadata": {},
   "outputs": [],
   "source": [
    "def search(head,x):\n",
    "    while head != None:\n",
    "        if x == head.data:\n",
    "            return True\n",
    "        head = head.next\n",
    "    return False\n",
    "x = search(ll,10)"
   ]
  },
  {
   "cell_type": "code",
   "execution_count": 33,
   "metadata": {},
   "outputs": [
    {
     "name": "stdout",
     "output_type": "stream",
     "text": [
      "False\n"
     ]
    }
   ],
   "source": [
    "print(x)"
   ]
  },
  {
   "cell_type": "code",
   "execution_count": 34,
   "metadata": {},
   "outputs": [
    {
     "name": "stdout",
     "output_type": "stream",
     "text": [
      "True\n"
     ]
    }
   ],
   "source": [
    "print(search(ll,2))"
   ]
  },
  {
   "cell_type": "code",
   "execution_count": 35,
   "metadata": {},
   "outputs": [],
   "source": [
    "def Reverse(head):\n",
    "    prev = None\n",
    "    current = head\n",
    "    while current != None:\n",
    "        Next_Node = current.next\n",
    "        current.next = prev\n",
    "        prev = current\n",
    "        current = Next_Node\n",
    "    return prev"
   ]
  },
  {
   "cell_type": "code",
   "execution_count": 36,
   "metadata": {},
   "outputs": [],
   "source": [
    "x = Reverse(ll)"
   ]
  },
  {
   "cell_type": "code",
   "execution_count": 37,
   "metadata": {},
   "outputs": [
    {
     "name": "stdout",
     "output_type": "stream",
     "text": [
      "7 -->  6 -->  5 -->  4 -->  3 -->  2 -->  1 -->  None\n"
     ]
    }
   ],
   "source": [
    "printingLL(x)"
   ]
  }
 ],
 "metadata": {
  "kernelspec": {
   "display_name": "Python 3",
   "language": "python",
   "name": "python3"
  },
  "language_info": {
   "codemirror_mode": {
    "name": "ipython",
    "version": 3
   },
   "file_extension": ".py",
   "mimetype": "text/x-python",
   "name": "python",
   "nbconvert_exporter": "python",
   "pygments_lexer": "ipython3",
   "version": "3.12.3"
  }
 },
 "nbformat": 4,
 "nbformat_minor": 2
}
