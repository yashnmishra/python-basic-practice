{
 "cells": [
  {
   "cell_type": "code",
   "execution_count": 3,
   "metadata": {},
   "outputs": [
    {
     "name": "stdout",
     "output_type": "stream",
     "text": [
      "   yash\n",
      "yash\n"
     ]
    }
   ],
   "source": [
    "s = '   yash'\n",
    "t= s.lstrip()\n",
    "print(s)\n",
    "print(t)"
   ]
  },
  {
   "cell_type": "code",
   "execution_count": 1,
   "metadata": {},
   "outputs": [
    {
     "name": "stdout",
     "output_type": "stream",
     "text": [
      "yash    yash    yash   \n",
      "yashyashyash\n"
     ]
    }
   ],
   "source": [
    "s= 'yash   '\n",
    "t = s.rstrip()\n",
    "print (s,s,s)\n",
    "print(t,t,t,sep='')"
   ]
  },
  {
   "cell_type": "code",
   "execution_count": 2,
   "metadata": {},
   "outputs": [
    {
     "name": "stdout",
     "output_type": "stream",
     "text": [
      "['Hello', 'my', 'name', 'is', 'yash', 'mishra']\n"
     ]
    }
   ],
   "source": [
    "s = 'Hello my name is yash mishra'\n",
    "t= s.split()\n",
    "print(t)"
   ]
  },
  {
   "cell_type": "code",
   "execution_count": 3,
   "metadata": {},
   "outputs": [
    {
     "data": {
      "text/plain": [
       "list"
      ]
     },
     "execution_count": 3,
     "metadata": {},
     "output_type": "execute_result"
    }
   ],
   "source": [
    "type(t)"
   ]
  },
  {
   "cell_type": "code",
   "execution_count": 7,
   "metadata": {},
   "outputs": [
    {
     "name": "stdout",
     "output_type": "stream",
     "text": [
      "Hello\n",
      "my\n",
      "name\n",
      "is\n",
      "yash\n",
      "mishra\n"
     ]
    }
   ],
   "source": [
    "for word in t:\n",
    "    print(word)"
   ]
  },
  {
   "cell_type": "code",
   "execution_count": 9,
   "metadata": {},
   "outputs": [
    {
     "name": "stdout",
     "output_type": "stream",
     "text": [
      "['15', '08', '1947']\n"
     ]
    }
   ],
   "source": [
    "a=\"15/08/1947\"\n",
    "l1=a.split(\"/\")\n",
    "print(l1)"
   ]
  },
  {
   "cell_type": "code",
   "execution_count": 8,
   "metadata": {},
   "outputs": [
    {
     "name": "stdout",
     "output_type": "stream",
     "text": [
      "Hellomynameisyashmishra\n"
     ]
    }
   ],
   "source": [
    "y=['Hello', 'my', 'name', 'is', 'yash', 'mishra']\n",
    "s=''.join(y)\n",
    "print(s)"
   ]
  },
  {
   "cell_type": "code",
   "execution_count": 7,
   "metadata": {},
   "outputs": [
    {
     "data": {
      "text/plain": [
       "str"
      ]
     },
     "execution_count": 7,
     "metadata": {},
     "output_type": "execute_result"
    }
   ],
   "source": [
    "type(s)"
   ]
  },
  {
   "cell_type": "code",
   "execution_count": 13,
   "metadata": {},
   "outputs": [
    {
     "name": "stdout",
     "output_type": "stream",
     "text": [
      "Hello@my@name@is@yash@mishra\n"
     ]
    }
   ],
   "source": [
    "y=['Hello', 'my', 'name', 'is', 'yash', 'mishra']\n",
    "s='@'.join(y)\n",
    "print(s)"
   ]
  },
  {
   "cell_type": "code",
   "execution_count": 9,
   "metadata": {},
   "outputs": [
    {
     "name": "stdout",
     "output_type": "stream",
     "text": [
      "['mishra', 'and', 'father']\n"
     ]
    }
   ],
   "source": [
    "#list of all even length words is given string \n",
    "s = 'Hello my name is yash mishra and my father is Navin'\n",
    "l1=[]\n",
    "l=s.split()\n",
    "for word in l:\n",
    "    if len(word)%3==0:\n",
    "        l1.append(word)\n",
    "print(l1)"
   ]
  },
  {
   "cell_type": "code",
   "execution_count": 16,
   "metadata": {},
   "outputs": [
    {
     "name": "stdout",
     "output_type": "stream",
     "text": [
      "['my', 'friend']\n"
     ]
    }
   ],
   "source": [
    "s = input()\n",
    "l1=[]\n",
    "l=s.split()\n",
    "for word in l:\n",
    "    if len(word)%2==0:\n",
    "        l1.append(word)\n",
    "print(l1)"
   ]
  },
  {
   "cell_type": "code",
   "execution_count": 17,
   "metadata": {},
   "outputs": [
    {
     "name": "stdout",
     "output_type": "stream",
     "text": [
      "['my', 'name', 'is', 'yash']\n"
     ]
    }
   ],
   "source": [
    "l1=[]\n",
    "l=input().split()\n",
    "for word in l:\n",
    "    if len(word)%2==0:\n",
    "        l1.append(word)\n",
    "print(l1)"
   ]
  },
  {
   "cell_type": "code",
   "execution_count": 13,
   "metadata": {},
   "outputs": [
    {
     "name": "stdout",
     "output_type": "stream",
     "text": [
      "Y N M sir\n"
     ]
    }
   ],
   "source": [
    "s='Yash Navin Mishra sir'\n",
    "l=s.split()\n",
    "l1 = []\n",
    "for word in l[0:len(l)-1]:\n",
    "    l1.append(word[0])\n",
    "l1.append(l[-1])\n",
    "updated = ' '.join(l1)\n",
    "print(updated)"
   ]
  },
  {
   "cell_type": "code",
   "execution_count": 2,
   "metadata": {},
   "outputs": [
    {
     "name": "stdout",
     "output_type": "stream",
     "text": [
      "Mishra Navin Yash\n"
     ]
    }
   ],
   "source": [
    "l = input().split()\n",
    "t = ' '.join(l[::-1])\n",
    "print(t)"
   ]
  },
  {
   "cell_type": "code",
   "execution_count": 21,
   "metadata": {},
   "outputs": [],
   "source": [
    "s= \"hello my name is Yash Mishra and my fathers name is Navin mishra , my mother is Bharti Mishra.\""
   ]
  },
  {
   "cell_type": "code",
   "execution_count": 19,
   "metadata": {},
   "outputs": [
    {
     "name": "stdout",
     "output_type": "stream",
     "text": [
      "-1\n"
     ]
    }
   ],
   "source": [
    "print(s.find('sudhanshu')) #find() return -1 if sting not found "
   ]
  },
  {
   "cell_type": "code",
   "execution_count": 23,
   "metadata": {},
   "outputs": [
    {
     "name": "stdout",
     "output_type": "stream",
     "text": [
      "17\n"
     ]
    }
   ],
   "source": [
    "print(s.index('Yash')) #index()  return error if sting not found "
   ]
  },
  {
   "cell_type": "code",
   "execution_count": 10,
   "metadata": {},
   "outputs": [
    {
     "name": "stdout",
     "output_type": "stream",
     "text": [
      "HI! my name is Yash Mishra and my fathers name is Navin mishra , my mother is Bharti Mishra.\n"
     ]
    }
   ],
   "source": [
    "print(s.replace(\"hello\",\"HI!\"))"
   ]
  }
 ],
 "metadata": {
  "kernelspec": {
   "display_name": "Python 3",
   "language": "python",
   "name": "python3"
  },
  "language_info": {
   "codemirror_mode": {
    "name": "ipython",
    "version": 3
   },
   "file_extension": ".py",
   "mimetype": "text/x-python",
   "name": "python",
   "nbconvert_exporter": "python",
   "pygments_lexer": "ipython3",
   "version": "3.12.3"
  }
 },
 "nbformat": 4,
 "nbformat_minor": 2
}
