{
 "cells": [
  {
   "cell_type": "code",
   "execution_count": 7,
   "metadata": {},
   "outputs": [
    {
     "name": "stdout",
     "output_type": "stream",
     "text": [
      "abdc\n",
      "['a', 'b', 'c', 'd']\n",
      "abcd\n"
     ]
    }
   ],
   "source": [
    "#sorting string into list\n",
    "a='abdc'\n",
    "print(a)\n",
    "t=sorted(a)\n",
    "print(t)\n",
    "print(''.join(t))\n"
   ]
  },
  {
   "cell_type": "code",
   "execution_count": 10,
   "metadata": {},
   "outputs": [
    {
     "name": "stdout",
     "output_type": "stream",
     "text": [
      "abcd\n"
     ]
    }
   ],
   "source": [
    "a='dbac'\n",
    "t=''.join(sorted(a))\n",
    "print(t)"
   ]
  },
  {
   "cell_type": "code",
   "execution_count": 13,
   "metadata": {},
   "outputs": [
    {
     "name": "stdout",
     "output_type": "stream",
     "text": [
      "hello # elloh\n",
      "ehllo # ehllo\n",
      "hello = elloh therefore input strings is anagram\n"
     ]
    }
   ],
   "source": [
    "#givin two strings that only contain alphabet , Find wheather the srings are anagram or not \n",
    "s1 = input(\"Enter first string :\")\n",
    "s2 = input(\"Enter second string :\")\n",
    "print(s1,s2,sep=' # ')\n",
    "\n",
    "t1=''.join(sorted(s1))\n",
    "t2=''.join(sorted(s2))\n",
    "print(t1,t2,sep=' # ')\n",
    "\n",
    "if t1==t2:\n",
    "    print(s1,'=',s2,\"therefore input strings is anagram\")\n",
    "else:\n",
    "    print(s1,'and',s2,\"are not equal therefore input strings is not anagram\")\n"
   ]
  },
  {
   "cell_type": "code",
   "execution_count": 14,
   "metadata": {},
   "outputs": [
    {
     "name": "stdout",
     "output_type": "stream",
     "text": [
      "anagram\n"
     ]
    }
   ],
   "source": [
    "#2nd method \n",
    "s1 = input(\"Enter first string :\")\n",
    "s2 = input(\"Enter second string :\")\n",
    "\n",
    "if(len(s1)==len(s2)):\n",
    "    t1=''.join(sorted(s1))\n",
    "    t2=''.join(sorted(s2))\n",
    "    if t1==t2:\n",
    "        print(\"anagram\")\n",
    "    else:\n",
    "        print(\"not an anagram\")"
   ]
  },
  {
   "cell_type": "code",
   "execution_count": 2,
   "metadata": {},
   "outputs": [
    {
     "name": "stdout",
     "output_type": "stream",
     "text": [
      "Yes\n"
     ]
    }
   ],
   "source": [
    "s=input()\n",
    "t=input()\n",
    "if len(s)==len(t):\n",
    "    if t in s*2:\n",
    "        print(\"Yes\")\n",
    "    else:\n",
    "        print(\"no\")\n",
    "else:\n",
    "    print(\"NO\")"
   ]
  },
  {
   "cell_type": "code",
   "execution_count": 3,
   "metadata": {},
   "outputs": [
    {
     "name": "stdout",
     "output_type": "stream",
     "text": [
      "abcd    ##    bcda\n"
     ]
    }
   ],
   "source": [
    "print(s,t,sep='    ##    ')"
   ]
  },
  {
   "cell_type": "code",
   "execution_count": 5,
   "metadata": {},
   "outputs": [
    {
     "name": "stdout",
     "output_type": "stream",
     "text": [
      "yes\n"
     ]
    }
   ],
   "source": [
    "#given string check wheather all the symbols are vowels or not !!\n",
    "\n",
    "s='aieea'\n",
    "for letter in s:\n",
    "    if letter not in 'aeiouAEIOU':\n",
    "        print(\"NO\")\n",
    "        break\n",
    "else:\n",
    "    print(\"yes\")"
   ]
  },
  {
   "cell_type": "code",
   "execution_count": 11,
   "metadata": {},
   "outputs": [
    {
     "name": "stdout",
     "output_type": "stream",
     "text": [
      "aabbccdd\n",
      "\n"
     ]
    }
   ],
   "source": [
    "#count number of duplicate character \n",
    "s = input(\"Enter the string : \")\n",
    "print(s)\n",
    "t = len(s)\n",
    "s1=\"\"\n",
    "for i in range(0,t-1):\n",
    "    if s[i] != s[i+1]:\n",
    "        s+=s[i]\n",
    "s+=s[-1]\n",
    "print(s1)\n",
    "# 1st attempt"
   ]
  },
  {
   "cell_type": "code",
   "execution_count": 16,
   "metadata": {},
   "outputs": [
    {
     "name": "stdout",
     "output_type": "stream",
     "text": [
      "aaabbbaaccdd\n",
      "abacd\n"
     ]
    }
   ],
   "source": [
    "s = input(\"Enter the sring = \")\n",
    "s1 = ''\n",
    "for char in s:\n",
    "    if s1 == '' or char!=s1[len(s1)-1]:\n",
    "        s1=s1+char\n",
    "print(s)\n",
    "print(s1)"
   ]
  },
  {
   "cell_type": "code",
   "execution_count": 17,
   "metadata": {},
   "outputs": [
    {
     "name": "stdout",
     "output_type": "stream",
     "text": [
      " \n",
      " \n"
     ]
    }
   ],
   "source": [
    "s = input(\"Enter the sring = \")\n",
    "s1 = ''\n",
    "for char in s:\n",
    "    if s1 == '' or char!=s1[len(s1)-1]:\n",
    "        s1=s1+char\n",
    "print(s)\n",
    "print(s1)\n",
    "#no error if the string is "
   ]
  },
  {
   "cell_type": "code",
   "execution_count": 19,
   "metadata": {},
   "outputs": [
    {
     "name": "stdout",
     "output_type": "stream",
     "text": [
      "Yes\n"
     ]
    }
   ],
   "source": [
    "#s = 'abcdab'\n",
    "s = 'abcd'\n",
    "t = ''\n",
    "for letter in s:\n",
    "    if letter not in t:\n",
    "        t=t+letter\n",
    "    else:\n",
    "        print(\"no\")\n",
    "        break\n",
    "else:\n",
    "    print(\"Yes\")"
   ]
  },
  {
   "cell_type": "code",
   "execution_count": 24,
   "metadata": {},
   "outputs": [
    {
     "name": "stdout",
     "output_type": "stream",
     "text": [
      "heelo\n",
      "my\n",
      "nm\n"
     ]
    }
   ],
   "source": [
    "str= input(\"check string\").split()\n",
    "for letter in str:\n",
    "    print(letter)"
   ]
  },
  {
   "cell_type": "code",
   "execution_count": 22,
   "metadata": {},
   "outputs": [],
   "source": [
    "#Wheather a given string contains all char a to z\n",
    "s = 'abcdefghijklmnopqrstuvwxyz'\n",
    "#t=s.split()\n",
    "str= input(\"check string\")\n",
    "if letter in str == s:\n",
    "    print()"
   ]
  }
 ],
 "metadata": {
  "kernelspec": {
   "display_name": "Python 3",
   "language": "python",
   "name": "python3"
  },
  "language_info": {
   "codemirror_mode": {
    "name": "ipython",
    "version": 3
   },
   "file_extension": ".py",
   "mimetype": "text/x-python",
   "name": "python",
   "nbconvert_exporter": "python",
   "pygments_lexer": "ipython3",
   "version": "3.12.3"
  }
 },
 "nbformat": 4,
 "nbformat_minor": 2
}
